{
  "nbformat": 4,
  "nbformat_minor": 0,
  "metadata": {
    "colab": {
      "name": "hej python3.ipynb",
      "version": "0.3.2",
      "provenance": [],
      "collapsed_sections": [],
      "toc_visible": true
    },
    "kernelspec": {
      "name": "python3",
      "display_name": "Python 3"
    }
  },
  "cells": [
    {
      "cell_type": "markdown",
      "metadata": {
        "id": "UgLLldZiR3uh",
        "colab_type": "text"
      },
      "source": [
        "# Wstęp\n",
        "Opisy do fragmentów kodu umieszczam pod spodem, a nie nad.\\\n",
        "Myślę, że najpierw lepiej jest przeczytać kodu, a dopiero później jego opis.\\\n",
        "Czasami kod mówi więcej niż 1000 słów :D\\"
      ]
    },
    {
      "cell_type": "markdown",
      "metadata": {
        "id": "ygkGqSrYkBi9",
        "colab_type": "text"
      },
      "source": [
        "# Podstawy Pythona"
      ]
    },
    {
      "cell_type": "markdown",
      "metadata": {
        "id": "HeQJ1-yGOrHv",
        "colab_type": "text"
      },
      "source": [
        "## Wprowadzenie\n",
        "Programy napisane w pythonie wykonują się linijka po linijce, zaczynając od początku. W przeciwieństwie do c++ nie trzeba pisać żadnej specjalnej funkcji main."
      ]
    },
    {
      "cell_type": "markdown",
      "metadata": {
        "id": "DBnH7VIcDC_U",
        "colab_type": "text"
      },
      "source": [
        "## Hello World!"
      ]
    },
    {
      "cell_type": "code",
      "metadata": {
        "id": "K3zJrh9hDHx0",
        "colab_type": "code",
        "outputId": "fa231a65-f382-4163-dce4-d1cd49297a2a",
        "colab": {
          "base_uri": "https://localhost:8080/",
          "height": 34
        }
      },
      "source": [
        "print(\"Hello World!\")"
      ],
      "execution_count": 0,
      "outputs": [
        {
          "output_type": "stream",
          "text": [
            "Hello World!\n"
          ],
          "name": "stdout"
        }
      ]
    },
    {
      "cell_type": "markdown",
      "metadata": {
        "id": "5-CzmNh_PJhk",
        "colab_type": "text"
      },
      "source": [
        "Wypisujemny na ekran używając funkcji print(), odpowiednik `cout<<` z c++."
      ]
    },
    {
      "cell_type": "markdown",
      "metadata": {
        "id": "TpYv4-UVClcW",
        "colab_type": "text"
      },
      "source": [
        "## Zmienne w Pythonie"
      ]
    },
    {
      "cell_type": "code",
      "metadata": {
        "id": "5l7jzhNz_5xZ",
        "colab_type": "code",
        "outputId": "d31f0fc5-bea4-47d7-cc78-e77a3625a7c5",
        "colab": {
          "base_uri": "https://localhost:8080/",
          "height": 34
        }
      },
      "source": [
        "zmienna = 5\n",
        "print (zmienna)"
      ],
      "execution_count": 0,
      "outputs": [
        {
          "output_type": "stream",
          "text": [
            "5\n"
          ],
          "name": "stdout"
        }
      ]
    },
    {
      "cell_type": "markdown",
      "metadata": {
        "id": "CS188cruPRUM",
        "colab_type": "text"
      },
      "source": [
        "Aby utworzyć nową zmienną po prostu wpisujemy jej nazwe i nadajemy jej jakąś wartość.\\\n",
        "W przeciwie do c++, do definiowania zmiennych nie używamy słów kluczowych typu `int, float, string`."
      ]
    },
    {
      "cell_type": "markdown",
      "metadata": {
        "id": "FzA5-7DbSXDE",
        "colab_type": "text"
      },
      "source": [
        "## Funkcja print()"
      ]
    },
    {
      "cell_type": "code",
      "metadata": {
        "id": "rSk-fJAES0UW",
        "colab_type": "code",
        "outputId": "3cafcf96-0012-4769-b973-ee48f717b127",
        "colab": {
          "base_uri": "https://localhost:8080/",
          "height": 54
        }
      },
      "source": [
        "print(\"tekst\")\n",
        "print(\"tekst2\")"
      ],
      "execution_count": 0,
      "outputs": [
        {
          "output_type": "stream",
          "text": [
            "tekst\n",
            "tekst2\n"
          ],
          "name": "stdout"
        }
      ]
    },
    {
      "cell_type": "markdown",
      "metadata": {
        "id": "Xe6gv7NhS35Z",
        "colab_type": "text"
      },
      "source": [
        "Domyślnie funkcja print zawsze na końcu dodaje znak końca linii."
      ]
    },
    {
      "cell_type": "code",
      "metadata": {
        "id": "Lw9hTJUPTAsL",
        "colab_type": "code",
        "outputId": "e3da0f17-7dd2-4004-ead9-609b0610e34c",
        "colab": {
          "base_uri": "https://localhost:8080/",
          "height": 54
        }
      },
      "source": [
        "print(\"tekst\" , end=\"\")\n",
        "print(\"tekst2\")\n",
        "print(\"tekst3\")"
      ],
      "execution_count": 0,
      "outputs": [
        {
          "output_type": "stream",
          "text": [
            "teksttekst2\n",
            "tekst3\n"
          ],
          "name": "stdout"
        }
      ]
    },
    {
      "cell_type": "code",
      "metadata": {
        "id": "fQ4zLfShTMWz",
        "colab_type": "code",
        "outputId": "476c683e-037a-4131-cdbb-cec252bbed2f",
        "colab": {
          "base_uri": "https://localhost:8080/",
          "height": 35
        }
      },
      "source": [
        "print(\"teskt\", end=\" \")\n",
        "print(\"teskt2\")"
      ],
      "execution_count": 0,
      "outputs": [
        {
          "output_type": "stream",
          "text": [
            "teskt teskt2\n"
          ],
          "name": "stdout"
        }
      ]
    },
    {
      "cell_type": "markdown",
      "metadata": {
        "id": "7dw8ecuoTVGZ",
        "colab_type": "text"
      },
      "source": [
        "Oczywiście można zmienić to domyślne zachowanie. Aby to zrobić przekazujemy argument nazwany `end` do wywołania funkcji."
      ]
    },
    {
      "cell_type": "code",
      "metadata": {
        "id": "NwzU5SojT3kT",
        "colab_type": "code",
        "outputId": "29059e81-1d80-452b-c7ca-b506850eda6b",
        "colab": {
          "base_uri": "https://localhost:8080/",
          "height": 35
        }
      },
      "source": [
        "s = \"tekst\"\n",
        "s2 = \"tekst2\"\n",
        "zmienna = 5\n",
        "\n",
        "print(s,zmienna,s2)\n"
      ],
      "execution_count": 0,
      "outputs": [
        {
          "output_type": "stream",
          "text": [
            "tekst 5 tekst2\n"
          ],
          "name": "stdout"
        }
      ]
    },
    {
      "cell_type": "markdown",
      "metadata": {
        "id": "bzi_LGCUUP11",
        "colab_type": "text"
      },
      "source": [
        "A tak możemy wypisać kilka wartości oddzielonych spacją."
      ]
    },
    {
      "cell_type": "code",
      "metadata": {
        "id": "bSydskWfbNcx",
        "colab_type": "code",
        "outputId": "16c6e474-0b34-4e3d-cc73-701ae6cf0969",
        "colab": {
          "base_uri": "https://localhost:8080/",
          "height": 35
        }
      },
      "source": [
        "zmienna = 5\n",
        "print(f\"Wartosc zmiennej to {zmienna}.\")"
      ],
      "execution_count": 0,
      "outputs": [
        {
          "output_type": "stream",
          "text": [
            "Wartosc zmiennej to 5.\n"
          ],
          "name": "stdout"
        }
      ]
    },
    {
      "cell_type": "markdown",
      "metadata": {
        "id": "VYQCGrTgRKMz",
        "colab_type": "text"
      },
      "source": [
        "Do formatowania złożonych stringów używamy składni `f\"Tekst {zmiena} tekst {zmienna2}\"`. Czyli w tekście w nawiasach klamrowych podajemy co chcemy w danym miejscu podstawić."
      ]
    },
    {
      "cell_type": "code",
      "metadata": {
        "colab_type": "code",
        "outputId": "7114ad7f-3cb4-44b3-b7f5-fbf40fae2dcd",
        "id": "EdNm0Qc_Ui7-",
        "colab": {
          "base_uri": "https://localhost:8080/",
          "height": 35
        }
      },
      "source": [
        "zmienna = 5\n",
        "print(\"Wartosc zmiennej to {zmienna}.\")"
      ],
      "execution_count": 0,
      "outputs": [
        {
          "output_type": "stream",
          "text": [
            "Wartosc zmiennej to {zmienna}.\n"
          ],
          "name": "stdout"
        }
      ]
    },
    {
      "cell_type": "markdown",
      "metadata": {
        "id": "iHlE4IMGUlJP",
        "colab_type": "text"
      },
      "source": [
        "Bez f z przodu \"\" nie działa."
      ]
    },
    {
      "cell_type": "markdown",
      "metadata": {
        "id": "xB_zCOyMateN",
        "colab_type": "text"
      },
      "source": [
        "## Stringi"
      ]
    },
    {
      "cell_type": "code",
      "metadata": {
        "id": "miY9fQAIaxjm",
        "colab_type": "code",
        "outputId": "a71382be-571f-4eac-eeb5-1065b6ed4481",
        "colab": {
          "base_uri": "https://localhost:8080/",
          "height": 54
        }
      },
      "source": [
        "s = \"33333\\n\"\n",
        "s2 = s + \"HEJ\"\n",
        "print(s2)"
      ],
      "execution_count": 0,
      "outputs": [
        {
          "output_type": "stream",
          "text": [
            "123123123\n",
            "HEJ\n"
          ],
          "name": "stdout"
        }
      ]
    },
    {
      "cell_type": "markdown",
      "metadata": {
        "id": "Z4IQTRD5StG6",
        "colab_type": "text"
      },
      "source": [
        "\\n wewnątrz stringa symbolizuje znak końca lini"
      ]
    },
    {
      "cell_type": "code",
      "metadata": {
        "id": "0nMWEk63dune",
        "colab_type": "code",
        "outputId": "025fd7e1-827c-4f8a-8821-101b8e615040",
        "colab": {
          "base_uri": "https://localhost:8080/",
          "height": 35
        }
      },
      "source": [
        "s = \"aaaaa\\n\"\n",
        "s2 = s.strip() + \"HEJ\"\n",
        "print(s2)"
      ],
      "execution_count": 0,
      "outputs": [
        {
          "output_type": "stream",
          "text": [
            "aaaaaHEJ\n"
          ],
          "name": "stdout"
        }
      ]
    },
    {
      "cell_type": "markdown",
      "metadata": {
        "id": "SjVQAwERVIeY",
        "colab_type": "text"
      },
      "source": [
        "Aby pozbyć się białych znaków ze stringa używamy metody `strip()`\n",
        "\n",
        "---\n",
        "\n"
      ]
    },
    {
      "cell_type": "code",
      "metadata": {
        "id": "tzFnxU43d3XI",
        "colab_type": "code",
        "outputId": "c5b7e57f-105a-4ff1-d171-dc783b366319",
        "colab": {
          "base_uri": "https://localhost:8080/",
          "height": 50
        }
      },
      "source": [
        "s = \"123 456\\n\"\n",
        "a , b = s.split()\n",
        "print(a)\n",
        "print(b)"
      ],
      "execution_count": 0,
      "outputs": [
        {
          "output_type": "stream",
          "text": [
            "123\n",
            "456\n"
          ],
          "name": "stdout"
        }
      ]
    },
    {
      "cell_type": "markdown",
      "metadata": {
        "id": "yLMOpAEiWSTr",
        "colab_type": "text"
      },
      "source": [
        "W ten sposób możemy rozbić stringa na poszczególne fragmenty. Rozbijamy po białych znakach."
      ]
    },
    {
      "cell_type": "markdown",
      "metadata": {
        "id": "DClhPkWoC1Qj",
        "colab_type": "text"
      },
      "source": [
        "## Warunki (if)\n"
      ]
    },
    {
      "cell_type": "code",
      "metadata": {
        "id": "QLbFE_HODpmQ",
        "colab_type": "code",
        "outputId": "ebf18e34-f5c3-4116-dbb3-f389e6555ca1",
        "colab": {
          "base_uri": "https://localhost:8080/",
          "height": 34
        }
      },
      "source": [
        "x = 5\n",
        "if x > 2:\n",
        "    print(\"Warunek spelniony.\")\n",
        "\n",
        "    "
      ],
      "execution_count": 0,
      "outputs": [
        {
          "output_type": "stream",
          "text": [
            "Warunek spelniony.\n"
          ],
          "name": "stdout"
        }
      ]
    },
    {
      "cell_type": "markdown",
      "metadata": {
        "id": "aiJ5arWnWqFi",
        "colab_type": "text"
      },
      "source": [
        "Ify są bardzo podobne do c++, tylko nie piszemy nawiasów okrągłych po `if`."
      ]
    },
    {
      "cell_type": "code",
      "metadata": {
        "id": "_p8yUf4TGGf8",
        "colab_type": "code",
        "outputId": "5f3bd39b-6dfb-4e44-d2d6-d732c0122df7",
        "colab": {
          "base_uri": "https://localhost:8080/",
          "height": 35
        }
      },
      "source": [
        "x = 1\n",
        "if x == 1 or x == 3:\n",
        "  print(\"to prawda, że: x ==1 or x == 3\")"
      ],
      "execution_count": 0,
      "outputs": [
        {
          "output_type": "stream",
          "text": [
            "to prawda, że: x ==1 or x == 3\n"
          ],
          "name": "stdout"
        }
      ]
    },
    {
      "cell_type": "code",
      "metadata": {
        "id": "y56vpbj0GWEB",
        "colab_type": "code",
        "outputId": "ca485b55-ab25-4353-dce7-6b5de55cd669",
        "colab": {
          "base_uri": "https://localhost:8080/",
          "height": 35
        }
      },
      "source": [
        "x = 1\n",
        "y = 2\n",
        "if x == 1 and y == 2:\n",
        "  print(\"to prawda, że x == 1 and y == 2\")"
      ],
      "execution_count": 0,
      "outputs": [
        {
          "output_type": "stream",
          "text": [
            "to prawda, że x == 1 and y == 2\n"
          ],
          "name": "stdout"
        }
      ]
    },
    {
      "cell_type": "markdown",
      "metadata": {
        "id": "weAIxz-cGBqn",
        "colab_type": "text"
      },
      "source": [
        "Możemy łączyć warunki za pomocą operatorów and i or.  \n",
        "Analogicznie do && oraz || z c++."
      ]
    },
    {
      "cell_type": "markdown",
      "metadata": {
        "id": "bqNoMQvLD6t7",
        "colab_type": "text"
      },
      "source": [
        "## Pętla while"
      ]
    },
    {
      "cell_type": "code",
      "metadata": {
        "id": "064TxI0jD5pd",
        "colab_type": "code",
        "outputId": "1fd157f1-9abb-4a32-cb19-11f2adb6a310",
        "colab": {
          "base_uri": "https://localhost:8080/",
          "height": 34
        }
      },
      "source": [
        "i = 2\n",
        "while i < 5:\n",
        "    print(i, end=\" \") # domyslnie print automatycznie dodaje koniec linii, ale mozna to zachowanie zmienic\n",
        "    i += 1 # zwieksz i o jeden"
      ],
      "execution_count": 0,
      "outputs": [
        {
          "output_type": "stream",
          "text": [
            "2 3 4 "
          ],
          "name": "stdout"
        }
      ]
    },
    {
      "cell_type": "markdown",
      "metadata": {
        "id": "3etynCKWbkq1",
        "colab_type": "text"
      },
      "source": [
        "## Pętla for"
      ]
    },
    {
      "cell_type": "code",
      "metadata": {
        "id": "vvWqLIJVbwhJ",
        "colab_type": "code",
        "outputId": "46b410d4-7dc5-4d88-e07a-f3669f1a8ba4",
        "colab": {
          "base_uri": "https://localhost:8080/",
          "height": 108
        }
      },
      "source": [
        "for i in range(5):\n",
        "  print(f\"i = {i}\")"
      ],
      "execution_count": 0,
      "outputs": [
        {
          "output_type": "stream",
          "text": [
            "i = 0\n",
            "i = 1\n",
            "i = 2\n",
            "i = 3\n",
            "i = 4\n"
          ],
          "name": "stdout"
        }
      ]
    },
    {
      "cell_type": "markdown",
      "metadata": {
        "id": "XRcwjE1IW_A6",
        "colab_type": "text"
      },
      "source": [
        "Pętle for są najbardziej użyteczne, gdy z góry wiemy ile obrotów pętli chcemy wykonać. Dla wszystich liczb od 3 do 5, albo zrób coś 5 razy."
      ]
    },
    {
      "cell_type": "code",
      "metadata": {
        "id": "5M9jCNQHXR5U",
        "colab_type": "code",
        "outputId": "05b0a034-61db-411d-d4f0-5d66d39195ea",
        "colab": {
          "base_uri": "https://localhost:8080/",
          "height": 90
        }
      },
      "source": [
        "for i in range(2,5):\n",
        "  print(i)"
      ],
      "execution_count": 0,
      "outputs": [
        {
          "output_type": "stream",
          "text": [
            "1\n",
            "2\n",
            "3\n",
            "4\n"
          ],
          "name": "stdout"
        }
      ]
    },
    {
      "cell_type": "markdown",
      "metadata": {
        "id": "28Lmw25IXYgn",
        "colab_type": "text"
      },
      "source": [
        "Aby zacząć od liczby innej niż `0` podajemy do `range(start,koniec)` dwa argumenty. Zwróc uwagę, że pętla nie wykona się już dla 5.\n",
        "Analogicznym kodem w c++ byłoby:\\\n",
        "`for (int i = 2; i < 5; i ++)\n",
        "{\n",
        "  cout<<i<<endl;\n",
        "}\n",
        "`"
      ]
    },
    {
      "cell_type": "markdown",
      "metadata": {
        "id": "AcYFMlbbEJtz",
        "colab_type": "text"
      },
      "source": [
        "## Listy\n",
        "Listy zastępują tablice z c++. Tylko listy potrafią trochę więcej."
      ]
    },
    {
      "cell_type": "code",
      "metadata": {
        "id": "77vYmR9JEZKq",
        "colab_type": "code",
        "outputId": "02607333-4919-42aa-e07f-7be9e670fc89",
        "colab": {
          "base_uri": "https://localhost:8080/",
          "height": 50
        }
      },
      "source": [
        "lista = [] # stworz pusta liste\n",
        "lista.append(1) # dodaj na koniec listy\n",
        "lista.append(2)\n",
        "lista.append(\"trzy\")\n",
        "lista.append(4)\n",
        "lista[0] = \"jeden\"\n",
        "lista.pop() # usun ostatni element listy\n",
        "\n",
        "print(\"Lista:\")\n",
        "i = 0\n",
        "while i < 3:\n",
        "    element = lista[i]\n",
        "    print(element, end=\" \") \n",
        "    i += 1"
      ],
      "execution_count": 0,
      "outputs": [
        {
          "output_type": "stream",
          "text": [
            "Lista:\n",
            "jeden 2 trzy "
          ],
          "name": "stdout"
        }
      ]
    },
    {
      "cell_type": "code",
      "metadata": {
        "id": "_Q7vj07OEtlY",
        "colab_type": "code",
        "outputId": "2d1671ac-b88c-4cee-831c-68ebec930fb2",
        "colab": {
          "base_uri": "https://localhost:8080/",
          "height": 34
        }
      },
      "source": [
        "for element in lista:  # for dla kazdego elementu w liscie\n",
        "    print(element, end=\" \")"
      ],
      "execution_count": 0,
      "outputs": [
        {
          "output_type": "stream",
          "text": [
            "jeden 2 trzy "
          ],
          "name": "stdout"
        }
      ]
    },
    {
      "cell_type": "markdown",
      "metadata": {
        "id": "6orioliJEoeZ",
        "colab_type": "text"
      },
      "source": [
        "lepszy spsób na przechodznie po elementach listy"
      ]
    },
    {
      "cell_type": "markdown",
      "metadata": {
        "id": "7BkUEzLjcLSQ",
        "colab_type": "text"
      },
      "source": [
        "### List comprehension"
      ]
    },
    {
      "cell_type": "code",
      "metadata": {
        "id": "rszwN8MNcsh0",
        "colab_type": "code",
        "colab": {}
      },
      "source": [
        "liczby = [1,2,3]\n",
        "potegi = []\n",
        "for x in liczby:\n",
        "  potegi.append(x^^2)\n",
        "print(potegi)"
      ],
      "execution_count": 0,
      "outputs": []
    },
    {
      "cell_type": "markdown",
      "metadata": {
        "id": "Ow2-H_TOc8qZ",
        "colab_type": "text"
      },
      "source": [
        "Kod podobny do powższego jest pisany tak często, że wymyślono odpowiadającą mu, krótszą składnię."
      ]
    },
    {
      "cell_type": "code",
      "metadata": {
        "id": "uW-RSEA9cXH9",
        "colab_type": "code",
        "outputId": "6b3f8c3e-1ab2-4388-93f7-0d76eb242f78",
        "colab": {
          "base_uri": "https://localhost:8080/",
          "height": 34
        }
      },
      "source": [
        "liczby = [1 , 2 , 3]\n",
        "potegi = [x**2 for x in liczby]\n",
        "print(potegi)"
      ],
      "execution_count": 0,
      "outputs": [
        {
          "output_type": "stream",
          "text": [
            "[1, 4, 9]\n"
          ],
          "name": "stdout"
        }
      ]
    },
    {
      "cell_type": "markdown",
      "metadata": {
        "id": "mg0cX3BJcm2S",
        "colab_type": "text"
      },
      "source": [
        "Składnia to `[wyrażenie for element in lista]`\\\n",
        "To stały, częsty  schemat:\n",
        "1.   przechodzimy po elementach listy\n",
        "2.   wykonujamy na nich jakąś opreację\n",
        "3.   tworzymy z nich nową listę\n",
        "\n",
        "Nadano mu nawet nazwę: **mapowanie**\n",
        "\n"
      ]
    },
    {
      "cell_type": "code",
      "metadata": {
        "id": "rOe67P8keAix",
        "colab_type": "code",
        "outputId": "a9c527f9-c885-4206-9f35-b4b7c12e6a14",
        "colab": {
          "base_uri": "https://localhost:8080/",
          "height": 34
        }
      },
      "source": [
        "liczby = [1,0,2,0,3,0,4,0]\n",
        "bez_zer = []\n",
        "for x in liczby:\n",
        "  if x != 0:\n",
        "    bez_zer.append(x^^2)\n",
        "print(bez_zer)"
      ],
      "execution_count": 0,
      "outputs": [
        {
          "output_type": "stream",
          "text": [
            "[1, 2, 3, 4]\n"
          ],
          "name": "stdout"
        }
      ]
    },
    {
      "cell_type": "markdown",
      "metadata": {
        "id": "Zy6VtlHkeTQ7",
        "colab_type": "text"
      },
      "source": [
        "W powyższym przykładzie oprócz mapowania mamy **filtrowanie**."
      ]
    },
    {
      "cell_type": "code",
      "metadata": {
        "id": "AydouZ_-eXll",
        "colab_type": "code",
        "outputId": "9e6e929a-4335-4e50-87f4-4857eb598488",
        "colab": {
          "base_uri": "https://localhost:8080/",
          "height": 34
        }
      },
      "source": [
        "liczby = [1,0,2,0,3,0,4,0]\n",
        "bez_zer = [x for x in liczby if x!=0]\n",
        "print(bez_zer)"
      ],
      "execution_count": 0,
      "outputs": [
        {
          "output_type": "stream",
          "text": [
            "[1, 2, 3, 4]\n"
          ],
          "name": "stdout"
        }
      ]
    },
    {
      "cell_type": "markdown",
      "metadata": {
        "id": "K5Oui7GqessJ",
        "colab_type": "text"
      },
      "source": [
        "Składnia to [wyrażenie for element in lista if warunek]"
      ]
    },
    {
      "cell_type": "markdown",
      "metadata": {
        "id": "JCIECr0BpBMR",
        "colab_type": "text"
      },
      "source": [
        "### Slice notation"
      ]
    },
    {
      "cell_type": "markdown",
      "metadata": {
        "id": "8jSEhOzfp92d",
        "colab_type": "text"
      },
      "source": [
        "\n",
        "\n",
        "```\n",
        "a[start:stop]  # items start through stop-1\n",
        "a[start:]      # items start through the rest of the array\n",
        "a[:stop]       # items from the beginning through stop-1\n",
        "a[:]           # a copy of the whole array\n",
        "\n",
        "a[start:stop:step] # start through not past stop, by step\n",
        "\n",
        "a[-1]    # last item in the array\n",
        "a[-2:]   # last two items in the array\n",
        "a[:-2]   # everything except the last two items\n",
        "\n",
        "a[::-1]    # all items in the array, reversed\n",
        "a[1::-1]   # the first two items, reversed\n",
        "a[:-3:-1]  # the last two items, reversed\n",
        "a[-3::-1]  # everything except the last two items, reversed\n",
        "```\n",
        "\n",
        "[stackoverflow](https://stackoverflow.com/questions/509211/understanding-slice-notation)\n",
        "\n"
      ]
    },
    {
      "cell_type": "code",
      "metadata": {
        "id": "grUoQM2zpGkv",
        "colab_type": "code",
        "outputId": "936937be-63d3-4e08-da17-349758ee2514",
        "colab": {
          "base_uri": "https://localhost:8080/",
          "height": 34
        }
      },
      "source": [
        "lista = [0,1,2,3,4,5,6]\n",
        "\n",
        "print(lista[0:7:1])"
      ],
      "execution_count": 0,
      "outputs": [
        {
          "output_type": "stream",
          "text": [
            "[0, 1, 2, 3, 4, 5, 6]\n"
          ],
          "name": "stdout"
        }
      ]
    },
    {
      "cell_type": "code",
      "metadata": {
        "id": "S1PZ_HfAqdJU",
        "colab_type": "code",
        "outputId": "d87ade8b-0da0-4f73-b250-ccba72b76649",
        "colab": {
          "base_uri": "https://localhost:8080/",
          "height": 34
        }
      },
      "source": [
        "print(lista[-1::-1])"
      ],
      "execution_count": 0,
      "outputs": [
        {
          "output_type": "stream",
          "text": [
            "[6, 5, 4, 3, 2, 1, 0]\n"
          ],
          "name": "stdout"
        }
      ]
    },
    {
      "cell_type": "markdown",
      "metadata": {
        "id": "4gRXSuh9E9G3",
        "colab_type": "text"
      },
      "source": [
        "## Funkcje"
      ]
    },
    {
      "cell_type": "code",
      "metadata": {
        "id": "LVmIKLXCE0tu",
        "colab_type": "code",
        "outputId": "b0c5c8d0-43fe-4ef7-a19b-e818fc88efdb",
        "colab": {
          "base_uri": "https://localhost:8080/",
          "height": 34
        }
      },
      "source": [
        "def pomnoz(a, b):\n",
        "    wynik = a * b\n",
        "    return wynik\n",
        "\n",
        "print(\"Funkcja zwrocila:\" , pomnoz(2,3))"
      ],
      "execution_count": 0,
      "outputs": [
        {
          "output_type": "stream",
          "text": [
            "Funkcja zwrocila: 6\n"
          ],
          "name": "stdout"
        }
      ]
    },
    {
      "cell_type": "markdown",
      "metadata": {
        "id": "X0GcItPn5PuI",
        "colab_type": "text"
      },
      "source": [
        "Do definiowania funkcji używamy słowa kluczowego def."
      ]
    },
    {
      "cell_type": "markdown",
      "metadata": {
        "id": "GNISXzY-cNpJ",
        "colab_type": "text"
      },
      "source": [
        "## Tuple (krotka)"
      ]
    },
    {
      "cell_type": "code",
      "metadata": {
        "id": "zbAySpUlcJoG",
        "colab_type": "code",
        "outputId": "ee5a800e-24a5-4a1c-b056-c9a104d63334",
        "colab": {
          "base_uri": "https://localhost:8080/",
          "height": 67
        }
      },
      "source": [
        "krotka = (\"Adam Nowak\", 23, \"Warszawa\")\n",
        "imieINazwisko = krotka[0]\n",
        "wiek = krotka[1]\n",
        "miasto = krotka[2]\n",
        "print(imieINazwisko)\n",
        "print(wiek)\n",
        "print(miasto)"
      ],
      "execution_count": 0,
      "outputs": [
        {
          "output_type": "stream",
          "text": [
            "Adam Nowak\n",
            "23\n",
            "Warszawa\n"
          ],
          "name": "stdout"
        }
      ]
    },
    {
      "cell_type": "markdown",
      "metadata": {
        "id": "RBaJtOMbdD3b",
        "colab_type": "text"
      },
      "source": [
        "Krotki są podobne do list. Różnica polega na tym, że po zaincjalizowaniu krotki nie można dodać do niej żadnych nowych wartości, ani zmienić obecnych. Mówimy, że krotki są **niezmienialne**.\n",
        "Poniższy kod zwróci nam mówiący o tym, że do krotek nie można przypisywać nowych wartości:"
      ]
    },
    {
      "cell_type": "code",
      "metadata": {
        "id": "akfmORFbdJ2J",
        "colab_type": "code",
        "outputId": "1a80b9d6-3ca5-45a1-b469-54d83f057bbf",
        "colab": {
          "base_uri": "https://localhost:8080/",
          "height": 178
        }
      },
      "source": [
        "# uwaga niepoprawny kod\n",
        "krotka = (1,2)\n",
        "krotka[0] = 1"
      ],
      "execution_count": 0,
      "outputs": [
        {
          "output_type": "error",
          "ename": "TypeError",
          "evalue": "ignored",
          "traceback": [
            "\u001b[0;31m---------------------------------------------------------------------------\u001b[0m",
            "\u001b[0;31mTypeError\u001b[0m                                 Traceback (most recent call last)",
            "\u001b[0;32m<ipython-input-19-a0122f73d5cb>\u001b[0m in \u001b[0;36m<module>\u001b[0;34m()\u001b[0m\n\u001b[1;32m      1\u001b[0m \u001b[0mkrotka\u001b[0m \u001b[0;34m=\u001b[0m \u001b[0;34m(\u001b[0m\u001b[0;36m1\u001b[0m\u001b[0;34m,\u001b[0m\u001b[0;36m2\u001b[0m\u001b[0;34m)\u001b[0m\u001b[0;34m\u001b[0m\u001b[0;34m\u001b[0m\u001b[0m\n\u001b[0;32m----> 2\u001b[0;31m \u001b[0mkrotka\u001b[0m\u001b[0;34m[\u001b[0m\u001b[0;36m0\u001b[0m\u001b[0;34m]\u001b[0m \u001b[0;34m=\u001b[0m \u001b[0;36m1\u001b[0m\u001b[0;34m\u001b[0m\u001b[0;34m\u001b[0m\u001b[0m\n\u001b[0m",
            "\u001b[0;31mTypeError\u001b[0m: 'tuple' object does not support item assignment"
          ]
        }
      ]
    },
    {
      "cell_type": "markdown",
      "metadata": {
        "colab_type": "text",
        "id": "p1VcGt5L4WlH"
      },
      "source": [
        "Istnieje bardzo wygodny sposób na 'rozpakowywanie' krotek. Na czym to polega najlepiej zobaczyć to na przykładzie:"
      ]
    },
    {
      "cell_type": "code",
      "metadata": {
        "colab_type": "code",
        "outputId": "1fb8bcb4-e913-4b40-e7a4-afb325aa0224",
        "id": "nFHgw_yZ4WyY",
        "colab": {
          "base_uri": "https://localhost:8080/",
          "height": 51
        }
      },
      "source": [
        "krotka = (\"Maciej\", \"Kasprzyk\")\n",
        "imie , nazwisko = krotka\n",
        "print(imie)\n",
        "print(nazwisko)"
      ],
      "execution_count": 0,
      "outputs": [
        {
          "output_type": "stream",
          "text": [
            "Maciej\n",
            "Kasprzyk\n"
          ],
          "name": "stdout"
        }
      ]
    },
    {
      "cell_type": "markdown",
      "metadata": {
        "id": "rMu0a96e40m5",
        "colab_type": "text"
      },
      "source": [
        "Powyższy kod jest analogiczny do:"
      ]
    },
    {
      "cell_type": "code",
      "metadata": {
        "colab_type": "code",
        "outputId": "1c08ca83-b205-4121-9e98-c6f50076c71b",
        "id": "LYebEoQV4h_S",
        "colab": {
          "base_uri": "https://localhost:8080/",
          "height": 51
        }
      },
      "source": [
        "krotka = (\"Maciej\", \"Kasprzyk\")\n",
        "imie = krotka[0]\n",
        "nazwisko = krotka[1]\n",
        "print(imie)\n",
        "print(nazwisko)"
      ],
      "execution_count": 0,
      "outputs": [
        {
          "output_type": "stream",
          "text": [
            "Maciej\n",
            "Kasprzyk\n"
          ],
          "name": "stdout"
        }
      ]
    },
    {
      "cell_type": "markdown",
      "metadata": {
        "id": "9z43p7fRd9-f",
        "colab_type": "text"
      },
      "source": [
        "## Słownik\n",
        "Słowniki są strukturami bardziej złożonymi niż listy czy krotki. O słownikach pythonowych możemy myśleć trochę jak o tradycyjnych, papierowych słownikach. Weźmy na przykład taki słownik poprawnej polszczyzny. Załóżmy, że chcemy wyszukać definicji oraz synonimów do słowa 'pasja'. Moglibyśmy oczywiście przeglądać cały słownik po kolei, ale stracilibyśmy ogrom czasu. Na szczęście słownik skonstruowany w sposób, który ułatawia nam posługiwanie się nim. Zauważmy, że słownik składa się z wielu niezależnych elementów. Elementy te mają dwie części. Pierwszy to słowo **klucz**, którego definicja, synonimy i przykłady są podane w drugiej części elementu. Możemy powiedzieć, że cała ta druga część (definicja, synonimy, przykłądy), to **wartość** dla danego słowa klucz.  \n",
        "Możemy o słowniku myśleć jako zbiorze elementów słów kluczowych i wszystiego tego, co dotyczy danego słowa. Cała ta struktura, dla wygody szukającego, jest uporządkowana alfabetycznie wg słów kluczy.\n",
        "\n",
        "\n",
        "W pythonowym słowniku jest podobnie. Mamy **klucze** oraz **wartości**. Nie mówimy już o słowach kluczach, bo pythonowy klucz nie musi być słowem (może być np. liczba). Więc pythonowy słownik to zbiór par klucz-wartość, uporządkowany po kluczach. Aby wydobyć jakąś informację ze słownika potrzebujemy wiedzieć pod jakim jest zapisana kluczem. Dzięki temu, że cała struktura jest posortowana, wydobywanie infomracji jest o wiele szybsze.\n",
        "\n"
      ]
    },
    {
      "cell_type": "code",
      "metadata": {
        "id": "hTW58XFftEA-",
        "colab_type": "code",
        "outputId": "40088906-cc43-489e-a5e9-e0834148816b",
        "colab": {
          "base_uri": "https://localhost:8080/",
          "height": 67
        }
      },
      "source": [
        "skroty =\t{\n",
        "  \"pw\": \"Politechnika Warszawska\",\n",
        "  \"w3c\": \"World Wide Web Consortium\",\n",
        "  \"js\": \"javascript\"\n",
        "}\n",
        "print(skroty[\"pw\"])\n",
        "print(skroty[\"w3c\"])\n",
        "print(skroty[\"js\"])"
      ],
      "execution_count": 0,
      "outputs": [
        {
          "output_type": "stream",
          "text": [
            "Politechnika Warszawska\n",
            "World Wide Web Consortium\n",
            "javascript\n"
          ],
          "name": "stdout"
        }
      ]
    },
    {
      "cell_type": "code",
      "metadata": {
        "id": "yg4olgeevXBB",
        "colab_type": "code",
        "outputId": "a28ba942-876d-4a38-cda9-fce5e470b8e4",
        "colab": {
          "base_uri": "https://localhost:8080/",
          "height": 34
        }
      },
      "source": [
        "print(skroty)"
      ],
      "execution_count": 0,
      "outputs": [
        {
          "output_type": "stream",
          "text": [
            "{'pw': 'Politechnika Warszawska', 'w3c': 'World Wide Web Consortium', 'js': 'javascript'}\n"
          ],
          "name": "stdout"
        }
      ]
    },
    {
      "cell_type": "markdown",
      "metadata": {
        "colab_type": "text",
        "id": "E9v41VNw4WaZ"
      },
      "source": [
        "Czasami potrzebujemy przejść po wszystkich elementach danego słownika:"
      ]
    },
    {
      "cell_type": "code",
      "metadata": {
        "id": "iyM3Q8vsva5j",
        "colab_type": "code",
        "outputId": "473dc705-450f-4c35-804f-a09f4144a7dc",
        "colab": {
          "base_uri": "https://localhost:8080/",
          "height": 67
        }
      },
      "source": [
        "for klucz, wartosc in skroty.items():\n",
        "  print(f\"Skrót {klucz} oznacza {wartosc}.\")"
      ],
      "execution_count": 0,
      "outputs": [
        {
          "output_type": "stream",
          "text": [
            "Skrót pw oznacz Politechnika Warszawska.\n",
            "Skrót w3c oznacz World Wide Web Consortium.\n",
            "Skrót js oznacz javascript.\n"
          ],
          "name": "stdout"
        }
      ]
    },
    {
      "cell_type": "markdown",
      "metadata": {
        "id": "RsD9kFhd-CXG",
        "colab_type": "text"
      },
      "source": [
        "## Wczytywanie danych z pliku\n",
        "Niestety nie mogę tutaj interaktywnie zaprezentować działania wczytywania plików, ponieważ nie mogę na stałe umieścić plików w tym środowisku uruchomieniowym :(. \\\n",
        "Dane z pliku można wczytać na kilka sposobów, w zależności od potrzeb.\n"
      ]
    },
    {
      "cell_type": "code",
      "metadata": {
        "id": "WOHvcupm-K0Q",
        "colab_type": "code",
        "colab": {}
      },
      "source": [
        "with open('katalog/nazwa.txt') as plik:\n",
        "  for line in plik:\n",
        "    # tutaj line jest stringiem zawierajacym w każdym obrocie kolejna linie z pliku\n",
        "  "
      ],
      "execution_count": 0,
      "outputs": []
    },
    {
      "cell_type": "code",
      "metadata": {
        "id": "4HmJZtbW-pzF",
        "colab_type": "code",
        "colab": {}
      },
      "source": [
        "with open('katalog/nazwa.txt') as plik:\n",
        "  lines = plik.readlines()\n",
        "  # dostajemy tablice skladajaca sie ze wszystkich lini w pliku"
      ],
      "execution_count": 0,
      "outputs": []
    },
    {
      "cell_type": "code",
      "metadata": {
        "id": "eS5UTcI9-2wl",
        "colab_type": "code",
        "colab": {}
      },
      "source": [
        "with open('katalog/nazwa.txt') as plik:\n",
        "  while True:\n",
        "    line = plik.readLine()\n",
        "    if not line:\n",
        "        break\n",
        "    # to podejscie jest bardzo podobne do 'for line in plik', ale możemy tutaj np wczytać dwie linie na raz\n",
        "    line2 = plik.readLine()"
      ],
      "execution_count": 0,
      "outputs": []
    },
    {
      "cell_type": "markdown",
      "metadata": {
        "id": "xnBDz8a9_lzJ",
        "colab_type": "text"
      },
      "source": [
        "uwaga! powyższy przykład może nie zadziałać jeżeli w pliku będzie nieparzysta liczba linii"
      ]
    },
    {
      "cell_type": "markdown",
      "metadata": {
        "id": "AtHobw1uj3K7",
        "colab_type": "text"
      },
      "source": [
        "# Algorytmy"
      ]
    },
    {
      "cell_type": "markdown",
      "metadata": {
        "id": "1RS90181j471",
        "colab_type": "text"
      },
      "source": [
        "## Obliczanie NWD - Algorytm Euklidesa\n",
        "Największy wspólny dzielnik (NWD) to dla danych dwóch (lub więcej) liczb całkowitych największa liczba naturalna dzieląca każdą z nich."
      ]
    },
    {
      "cell_type": "code",
      "metadata": {
        "id": "ra0BSgakkq2X",
        "colab_type": "code",
        "outputId": "83158656-f60f-40c2-bc41-8c95a607a6c1",
        "colab": {
          "base_uri": "https://localhost:8080/",
          "height": 34
        }
      },
      "source": [
        "def nwd(a, b):\n",
        "    while b:\n",
        "        a, b = b, a%b\n",
        "    return a\n",
        "print(nwd(21,14))"
      ],
      "execution_count": 0,
      "outputs": [
        {
          "output_type": "stream",
          "text": [
            "7\n"
          ],
          "name": "stdout"
        }
      ]
    },
    {
      "cell_type": "markdown",
      "metadata": {
        "id": "ASA9tzcJa08T",
        "colab_type": "text"
      },
      "source": [
        "# Przykładowe programy"
      ]
    },
    {
      "cell_type": "markdown",
      "metadata": {
        "id": "mTE34JpwbD68",
        "colab_type": "text"
      },
      "source": [
        "## Maksium z liczb\n",
        "Napisz program, który wczyta ze standardowego wejścia liczby (oddzielonych spacją) i wypisze największa z nich."
      ]
    },
    {
      "cell_type": "code",
      "metadata": {
        "id": "csWgPm2YbP-T",
        "colab_type": "code",
        "outputId": "7b3b6e80-c1d0-4582-f299-9c0a10df101e",
        "colab": {
          "base_uri": "https://localhost:8080/",
          "height": 51
        }
      },
      "source": [
        "liczby = [int(x) for x in input().split()]\n",
        "print(max(liczby))"
      ],
      "execution_count": 0,
      "outputs": [
        {
          "output_type": "stream",
          "text": [
            "2 5 2 12 100\n",
            "100\n"
          ],
          "name": "stdout"
        }
      ]
    },
    {
      "cell_type": "markdown",
      "metadata": {
        "id": "omElW3objz3q",
        "colab_type": "text"
      },
      "source": [
        ""
      ]
    }
  ]
}