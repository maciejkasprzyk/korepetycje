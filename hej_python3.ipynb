{
  "nbformat": 4,
  "nbformat_minor": 0,
  "metadata": {
    "colab": {
      "name": "hej python3.ipynb",
      "version": "0.3.2",
      "provenance": [],
      "collapsed_sections": [],
      "toc_visible": true
    },
    "kernelspec": {
      "name": "python3",
      "display_name": "Python 3"
    }
  },
  "cells": [
    {
      "cell_type": "markdown",
      "metadata": {
        "id": "DBnH7VIcDC_U",
        "colab_type": "text"
      },
      "source": [
        "# Hello World!"
      ]
    },
    {
      "cell_type": "code",
      "metadata": {
        "id": "K3zJrh9hDHx0",
        "colab_type": "code",
        "outputId": "fa231a65-f382-4163-dce4-d1cd49297a2a",
        "colab": {
          "base_uri": "https://localhost:8080/",
          "height": 34
        }
      },
      "source": [
        "print(\"Hello World!\")"
      ],
      "execution_count": 0,
      "outputs": [
        {
          "output_type": "stream",
          "text": [
            "Hello World!\n"
          ],
          "name": "stdout"
        }
      ]
    },
    {
      "cell_type": "markdown",
      "metadata": {
        "id": "TpYv4-UVClcW",
        "colab_type": "text"
      },
      "source": [
        "# Zmienne w Pythonie"
      ]
    },
    {
      "cell_type": "code",
      "metadata": {
        "id": "5l7jzhNz_5xZ",
        "colab_type": "code",
        "outputId": "d31f0fc5-bea4-47d7-cc78-e77a3625a7c5",
        "colab": {
          "base_uri": "https://localhost:8080/",
          "height": 34
        }
      },
      "source": [
        "zmienna = 5\n",
        "print (zmienna)"
      ],
      "execution_count": 0,
      "outputs": [
        {
          "output_type": "stream",
          "text": [
            "5\n"
          ],
          "name": "stdout"
        }
      ]
    },
    {
      "cell_type": "markdown",
      "metadata": {
        "id": "FzA5-7DbSXDE",
        "colab_type": "text"
      },
      "source": [
        "# Formatowanie print"
      ]
    },
    {
      "cell_type": "code",
      "metadata": {
        "id": "bSydskWfbNcx",
        "colab_type": "code",
        "outputId": "eec11bb0-0b12-4240-c028-48583410690c",
        "colab": {
          "base_uri": "https://localhost:8080/",
          "height": 34
        }
      },
      "source": [
        "zmienna = 5\n",
        "print(f\"Wartosc zmiennej to {zmienna}\")"
      ],
      "execution_count": 0,
      "outputs": [
        {
          "output_type": "stream",
          "text": [
            "Wartosc zmiennej to 5\n"
          ],
          "name": "stdout"
        }
      ]
    },
    {
      "cell_type": "markdown",
      "metadata": {
        "id": "xB_zCOyMateN",
        "colab_type": "text"
      },
      "source": [
        "# Stringi"
      ]
    },
    {
      "cell_type": "code",
      "metadata": {
        "id": "miY9fQAIaxjm",
        "colab_type": "code",
        "colab": {
          "base_uri": "https://localhost:8080/",
          "height": 50
        },
        "outputId": "25136c8e-9a16-417b-da0b-87b1821035e3"
      },
      "source": [
        "str = \"123123123\\n\"\n",
        "print(str + \"HEJ\")"
      ],
      "execution_count": 5,
      "outputs": [
        {
          "output_type": "stream",
          "text": [
            "123123123\n",
            "HEJ\n"
          ],
          "name": "stdout"
        }
      ]
    },
    {
      "cell_type": "code",
      "metadata": {
        "id": "0nMWEk63dune",
        "colab_type": "code",
        "colab": {
          "base_uri": "https://localhost:8080/",
          "height": 34
        },
        "outputId": "528f7eaa-9f7f-4bfe-a7e1-1d288206837b"
      },
      "source": [
        "print(str.strip()+ \"HEJ\")"
      ],
      "execution_count": 6,
      "outputs": [
        {
          "output_type": "stream",
          "text": [
            "123123123HEJ\n"
          ],
          "name": "stdout"
        }
      ]
    },
    {
      "cell_type": "code",
      "metadata": {
        "id": "tzFnxU43d3XI",
        "colab_type": "code",
        "colab": {
          "base_uri": "https://localhost:8080/",
          "height": 50
        },
        "outputId": "c5b7e57f-105a-4ff1-d171-dc783b366319"
      },
      "source": [
        "s = \"123 456\\n\"\n",
        "a , b = s.strip().split()\n",
        "print(a)\n",
        "print(b)"
      ],
      "execution_count": 8,
      "outputs": [
        {
          "output_type": "stream",
          "text": [
            "123\n",
            "456\n"
          ],
          "name": "stdout"
        }
      ]
    },
    {
      "cell_type": "markdown",
      "metadata": {
        "id": "DClhPkWoC1Qj",
        "colab_type": "text"
      },
      "source": [
        "# Warunki (if)\n"
      ]
    },
    {
      "cell_type": "code",
      "metadata": {
        "id": "QLbFE_HODpmQ",
        "colab_type": "code",
        "outputId": "ebf18e34-f5c3-4116-dbb3-f389e6555ca1",
        "colab": {
          "base_uri": "https://localhost:8080/",
          "height": 34
        }
      },
      "source": [
        "x = 5\n",
        "if x > 2:\n",
        "    print(\"Warunek spelniony.\")\n",
        "\n",
        "    "
      ],
      "execution_count": 0,
      "outputs": [
        {
          "output_type": "stream",
          "text": [
            "Warunek spelniony.\n"
          ],
          "name": "stdout"
        }
      ]
    },
    {
      "cell_type": "markdown",
      "metadata": {
        "id": "bqNoMQvLD6t7",
        "colab_type": "text"
      },
      "source": [
        "# Pętla while"
      ]
    },
    {
      "cell_type": "code",
      "metadata": {
        "id": "064TxI0jD5pd",
        "colab_type": "code",
        "outputId": "1fd157f1-9abb-4a32-cb19-11f2adb6a310",
        "colab": {
          "base_uri": "https://localhost:8080/",
          "height": 34
        }
      },
      "source": [
        "i = 2\n",
        "while i < 5:\n",
        "    print(i, end=\" \") # domyslnie print automatycznie dodaje koniec linii, ale mozna to zachowanie zmienic\n",
        "    i += 1 # zwieksz i o jeden"
      ],
      "execution_count": 0,
      "outputs": [
        {
          "output_type": "stream",
          "text": [
            "2 3 4 "
          ],
          "name": "stdout"
        }
      ]
    },
    {
      "cell_type": "markdown",
      "metadata": {
        "id": "3etynCKWbkq1",
        "colab_type": "text"
      },
      "source": [
        "# Pętla for\n",
        "Pętle for są najbardziej użyteczne, gdy z góry wiemy ile obrotów pętli chcemy wykonać."
      ]
    },
    {
      "cell_type": "code",
      "metadata": {
        "id": "vvWqLIJVbwhJ",
        "colab_type": "code",
        "outputId": "94111b5e-fc70-44cf-d152-ca675b23ec8d",
        "colab": {
          "base_uri": "https://localhost:8080/",
          "height": 101
        }
      },
      "source": [
        "# petla wykonujaca 5 obrotow\n",
        "for i in range(5):\n",
        "  print(f\"Obrót numer {i}.\")"
      ],
      "execution_count": 0,
      "outputs": [
        {
          "output_type": "stream",
          "text": [
            "Obrót numer 0.\n",
            "Obrót numer 1.\n",
            "Obrót numer 2.\n",
            "Obrót numer 3.\n",
            "Obrót numer 4.\n"
          ],
          "name": "stdout"
        }
      ]
    },
    {
      "cell_type": "markdown",
      "metadata": {
        "id": "AcYFMlbbEJtz",
        "colab_type": "text"
      },
      "source": [
        "# Listy\n",
        "(zastępują tablice z c/c++)"
      ]
    },
    {
      "cell_type": "code",
      "metadata": {
        "id": "77vYmR9JEZKq",
        "colab_type": "code",
        "outputId": "02607333-4919-42aa-e07f-7be9e670fc89",
        "colab": {
          "base_uri": "https://localhost:8080/",
          "height": 50
        }
      },
      "source": [
        "lista = [] # stworz pusta liste\n",
        "lista.append(1) # dodaj na koniec listy\n",
        "lista.append(2)\n",
        "lista.append(\"trzy\")\n",
        "lista.append(4)\n",
        "lista[0] = \"jeden\"\n",
        "lista.pop() # usun ostatni element listy\n",
        "\n",
        "print(\"Lista:\")\n",
        "i = 0\n",
        "while i < 3:\n",
        "    element = lista[i]\n",
        "    print(element, end=\" \") \n",
        "    i += 1"
      ],
      "execution_count": 0,
      "outputs": [
        {
          "output_type": "stream",
          "text": [
            "Lista:\n",
            "jeden 2 trzy "
          ],
          "name": "stdout"
        }
      ]
    },
    {
      "cell_type": "markdown",
      "metadata": {
        "id": "6orioliJEoeZ",
        "colab_type": "text"
      },
      "source": [
        "### For: drugi, lepszy spsób na przechodznie po elementach listy:"
      ]
    },
    {
      "cell_type": "code",
      "metadata": {
        "id": "_Q7vj07OEtlY",
        "colab_type": "code",
        "outputId": "2d1671ac-b88c-4cee-831c-68ebec930fb2",
        "colab": {
          "base_uri": "https://localhost:8080/",
          "height": 34
        }
      },
      "source": [
        "for element in lista:  # for dla kazdego elementu w liscie\n",
        "    print(element, end=\" \")"
      ],
      "execution_count": 0,
      "outputs": [
        {
          "output_type": "stream",
          "text": [
            "jeden 2 trzy "
          ],
          "name": "stdout"
        }
      ]
    },
    {
      "cell_type": "markdown",
      "metadata": {
        "id": "4gRXSuh9E9G3",
        "colab_type": "text"
      },
      "source": [
        "# Funkcje"
      ]
    },
    {
      "cell_type": "markdown",
      "metadata": {
        "id": "X0GcItPn5PuI",
        "colab_type": "text"
      },
      "source": [
        "Do definiowania funkcji używamy słowa kluczowego def."
      ]
    },
    {
      "cell_type": "code",
      "metadata": {
        "id": "LVmIKLXCE0tu",
        "colab_type": "code",
        "outputId": "b0c5c8d0-43fe-4ef7-a19b-e818fc88efdb",
        "colab": {
          "base_uri": "https://localhost:8080/",
          "height": 34
        }
      },
      "source": [
        "def pomnoz(a, b):\n",
        "    wynik = a * b\n",
        "    return wynik\n",
        "\n",
        "print(\"Funkcja zwrocila:\" , pomnoz(2,3))"
      ],
      "execution_count": 0,
      "outputs": [
        {
          "output_type": "stream",
          "text": [
            "Funkcja zwrocila: 6\n"
          ],
          "name": "stdout"
        }
      ]
    },
    {
      "cell_type": "markdown",
      "metadata": {
        "id": "GNISXzY-cNpJ",
        "colab_type": "text"
      },
      "source": [
        "# Tuple (krotka)"
      ]
    },
    {
      "cell_type": "code",
      "metadata": {
        "id": "zbAySpUlcJoG",
        "colab_type": "code",
        "outputId": "ee5a800e-24a5-4a1c-b056-c9a104d63334",
        "colab": {
          "base_uri": "https://localhost:8080/",
          "height": 67
        }
      },
      "source": [
        "krotka = (\"Adam Nowak\", 23, \"Warszawa\")\n",
        "imieINazwisko = krotka[0]\n",
        "wiek = krotka[1]\n",
        "miasto = krotka[2]\n",
        "print(imieINazwisko)\n",
        "print(wiek)\n",
        "print(miasto)"
      ],
      "execution_count": 0,
      "outputs": [
        {
          "output_type": "stream",
          "text": [
            "Adam Nowak\n",
            "23\n",
            "Warszawa\n"
          ],
          "name": "stdout"
        }
      ]
    },
    {
      "cell_type": "markdown",
      "metadata": {
        "id": "RBaJtOMbdD3b",
        "colab_type": "text"
      },
      "source": [
        "Krotki są podobne do list. Różnica polega na tym, że po zaincjalizowaniu krotki nie można dodać do niej żadnych nowych wartości, ani zmienić obecnych. Mówimy, że krotki są **niezmienialne**.\n",
        "Poniższy kod zwróci nam mówiący o tym, że do krotek nie można przypisywać nowych wartości:"
      ]
    },
    {
      "cell_type": "code",
      "metadata": {
        "id": "akfmORFbdJ2J",
        "colab_type": "code",
        "outputId": "1a80b9d6-3ca5-45a1-b469-54d83f057bbf",
        "colab": {
          "base_uri": "https://localhost:8080/",
          "height": 178
        }
      },
      "source": [
        "# uwaga niepoprawny kod\n",
        "krotka = (1,2)\n",
        "krotka[0] = 1"
      ],
      "execution_count": 0,
      "outputs": [
        {
          "output_type": "error",
          "ename": "TypeError",
          "evalue": "ignored",
          "traceback": [
            "\u001b[0;31m---------------------------------------------------------------------------\u001b[0m",
            "\u001b[0;31mTypeError\u001b[0m                                 Traceback (most recent call last)",
            "\u001b[0;32m<ipython-input-19-a0122f73d5cb>\u001b[0m in \u001b[0;36m<module>\u001b[0;34m()\u001b[0m\n\u001b[1;32m      1\u001b[0m \u001b[0mkrotka\u001b[0m \u001b[0;34m=\u001b[0m \u001b[0;34m(\u001b[0m\u001b[0;36m1\u001b[0m\u001b[0;34m,\u001b[0m\u001b[0;36m2\u001b[0m\u001b[0;34m)\u001b[0m\u001b[0;34m\u001b[0m\u001b[0;34m\u001b[0m\u001b[0m\n\u001b[0;32m----> 2\u001b[0;31m \u001b[0mkrotka\u001b[0m\u001b[0;34m[\u001b[0m\u001b[0;36m0\u001b[0m\u001b[0;34m]\u001b[0m \u001b[0;34m=\u001b[0m \u001b[0;36m1\u001b[0m\u001b[0;34m\u001b[0m\u001b[0;34m\u001b[0m\u001b[0m\n\u001b[0m",
            "\u001b[0;31mTypeError\u001b[0m: 'tuple' object does not support item assignment"
          ]
        }
      ]
    },
    {
      "cell_type": "markdown",
      "metadata": {
        "colab_type": "text",
        "id": "p1VcGt5L4WlH"
      },
      "source": [
        "Istnieje bardzo wygodny sposób na 'rozpakowywanie' krotek. Na czym to polega najlepiej zobaczyć to na przykładzie:"
      ]
    },
    {
      "cell_type": "code",
      "metadata": {
        "colab_type": "code",
        "outputId": "1fb8bcb4-e913-4b40-e7a4-afb325aa0224",
        "id": "nFHgw_yZ4WyY",
        "colab": {
          "base_uri": "https://localhost:8080/",
          "height": 51
        }
      },
      "source": [
        "krotka = (\"Maciej\", \"Kasprzyk\")\n",
        "imie , nazwisko = krotka\n",
        "print(imie)\n",
        "print(nazwisko)"
      ],
      "execution_count": 0,
      "outputs": [
        {
          "output_type": "stream",
          "text": [
            "Maciej\n",
            "Kasprzyk\n"
          ],
          "name": "stdout"
        }
      ]
    },
    {
      "cell_type": "markdown",
      "metadata": {
        "id": "rMu0a96e40m5",
        "colab_type": "text"
      },
      "source": [
        "Powyższy kod jest analogiczny do:"
      ]
    },
    {
      "cell_type": "code",
      "metadata": {
        "colab_type": "code",
        "outputId": "1c08ca83-b205-4121-9e98-c6f50076c71b",
        "id": "LYebEoQV4h_S",
        "colab": {
          "base_uri": "https://localhost:8080/",
          "height": 51
        }
      },
      "source": [
        "krotka = (\"Maciej\", \"Kasprzyk\")\n",
        "imie = krotka[0]\n",
        "nazwisko = krotka[1]\n",
        "print(imie)\n",
        "print(nazwisko)"
      ],
      "execution_count": 0,
      "outputs": [
        {
          "output_type": "stream",
          "text": [
            "Maciej\n",
            "Kasprzyk\n"
          ],
          "name": "stdout"
        }
      ]
    },
    {
      "cell_type": "markdown",
      "metadata": {
        "id": "9z43p7fRd9-f",
        "colab_type": "text"
      },
      "source": [
        "# Słownik\n",
        "Słowniki są strukturami bardziej złożonymi niż listy czy krotki. O słownikach pythonowych możemy myśleć trochę jak o tradycyjnych, papierowych słownikach. Weźmy na przykład taki słownik poprawnej polszczyzny. Załóżmy, że chcemy wyszukać definicji oraz synonimów do słowa 'pasja'. Moglibyśmy oczywiście przeglądać cały słownik po kolei, ale stracilibyśmy ogrom czasu. Na szczęście słownik skonstruowany w sposób, który ułatawia nam posługiwanie się nim. Zauważmy, że słownik składa się z wielu niezależnych elementów. Elementy te mają dwie części. Pierwszy to słowo **klucz**, którego definicja, synonimy i przykłady są podane w drugiej części elementu. Możemy powiedzieć, że cała ta druga część (definicja, synonimy, przykłądy), to **wartość** dla danego słowa klucz.  \n",
        "Możemy o słowniku myśleć jako zbiorze elementów słów kluczowych i wszystiego tego, co dotyczy danego słowa. Cała ta struktura, dla wygody szukającego, jest uporządkowana alfabetycznie wg słów kluczy.\n",
        "\n",
        "\n",
        "W pythonowym słowniku jest podobnie. Mamy **klucze** oraz **wartości**. Nie mówimy już o słowach kluczach, bo pythonowy klucz nie musi być słowem (może być np. liczba). Więc pythonowy słownik to zbiór par klucz-wartość, uporządkowany po kluczach. Aby wydobyć jakąś informację ze słownika potrzebujemy wiedzieć pod jakim jest zapisana kluczem. Dzięki temu, że cała struktura jest posortowana, wydobywanie infomracji jest o wiele szybsze.\n",
        "\n"
      ]
    },
    {
      "cell_type": "code",
      "metadata": {
        "id": "hTW58XFftEA-",
        "colab_type": "code",
        "outputId": "40088906-cc43-489e-a5e9-e0834148816b",
        "colab": {
          "base_uri": "https://localhost:8080/",
          "height": 67
        }
      },
      "source": [
        "skroty =\t{\n",
        "  \"pw\": \"Politechnika Warszawska\",\n",
        "  \"w3c\": \"World Wide Web Consortium\",\n",
        "  \"js\": \"javascript\"\n",
        "}\n",
        "print(skroty[\"pw\"])\n",
        "print(skroty[\"w3c\"])\n",
        "print(skroty[\"js\"])"
      ],
      "execution_count": 0,
      "outputs": [
        {
          "output_type": "stream",
          "text": [
            "Politechnika Warszawska\n",
            "World Wide Web Consortium\n",
            "javascript\n"
          ],
          "name": "stdout"
        }
      ]
    },
    {
      "cell_type": "code",
      "metadata": {
        "id": "yg4olgeevXBB",
        "colab_type": "code",
        "outputId": "a28ba942-876d-4a38-cda9-fce5e470b8e4",
        "colab": {
          "base_uri": "https://localhost:8080/",
          "height": 34
        }
      },
      "source": [
        "print(skroty)"
      ],
      "execution_count": 0,
      "outputs": [
        {
          "output_type": "stream",
          "text": [
            "{'pw': 'Politechnika Warszawska', 'w3c': 'World Wide Web Consortium', 'js': 'javascript'}\n"
          ],
          "name": "stdout"
        }
      ]
    },
    {
      "cell_type": "markdown",
      "metadata": {
        "colab_type": "text",
        "id": "E9v41VNw4WaZ"
      },
      "source": [
        "Czasami potrzebujemy przejść po wszystkich elementach danego słownika:"
      ]
    },
    {
      "cell_type": "code",
      "metadata": {
        "id": "iyM3Q8vsva5j",
        "colab_type": "code",
        "outputId": "473dc705-450f-4c35-804f-a09f4144a7dc",
        "colab": {
          "base_uri": "https://localhost:8080/",
          "height": 67
        }
      },
      "source": [
        "for klucz, wartosc in skroty.items():\n",
        "  print(f\"Skrót {klucz} oznacza {wartosc}.\")"
      ],
      "execution_count": 0,
      "outputs": [
        {
          "output_type": "stream",
          "text": [
            "Skrót pw oznacz Politechnika Warszawska.\n",
            "Skrót w3c oznacz World Wide Web Consortium.\n",
            "Skrót js oznacz javascript.\n"
          ],
          "name": "stdout"
        }
      ]
    }
  ]
}